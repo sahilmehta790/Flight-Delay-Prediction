{
 "cells": [
  {
   "cell_type": "markdown",
   "id": "33347650",
   "metadata": {},
   "source": [
    "# Table of Content: <a class=\"anchor\" id=\"table-of-content\"></a>\n",
    "* [1. Problem Background and Motivation](#problem-background)\n",
    "* [2. Libraries and Custom Functions](#import-packages)\n",
    "* [3. Data Exploration/Prep](#data-prep)\n",
    "* [4. Machine Learning Model](#ml-model)\n",
    "* [5. Deployment of Model](#model-deployment)"
   ]
  },
  {
   "cell_type": "markdown",
   "id": "9a6426a9",
   "metadata": {},
   "source": [
    "# 1. Problem Background and Motivation <a class=\"anchor\" id=\"problem-background\"></a>\n",
    "\n",
    "<img src='' width=\"700\" />\n",
    "\n",
    ">- Define your mission!\n",
    ">>We are trying to optimize the tuning of a classification model that predicts the flights that are likely to be delayed\n",
    "\n",
    ">- Real World Impact!\n",
    ">>If we can predict flight delays mroe accurately then we can give better time to our customers thus increasing customer retention\n",
    "\n",
    ">- Key stakeholders!\n",
    ">>Airline administration\n",
    "\n",
    "* [Go to Top](#table-of-content)"
   ]
  },
  {
   "cell_type": "markdown",
   "id": "2576fd06",
   "metadata": {},
   "source": [
    "# 2. Libraries & Custom Functions <a class=\"anchor\" id=\"import-packages\"></a>\n",
    "* [Go to Top](#table-of-content)"
   ]
  },
  {
   "cell_type": "code",
   "execution_count": 2,
   "id": "6cddaf44",
   "metadata": {},
   "outputs": [],
   "source": [
    "import pandas as pd\n",
    "pd.set_option('display.max_columns', None)\n",
    "pd.options.display.float_format = '{:.2f}'.format\n",
    "import numpy as np\n",
    "\n",
    "# Graphics\n",
    "import seaborn as sns\n",
    "import matplotlib.pyplot as plt\n",
    "import plotly.graph_objects as go\n",
    "\n",
    "# ML\n",
    "from sklearn.model_selection import train_test_split\n",
    "from sklearn.linear_model import LogisticRegression\n",
    "from sklearn.neighbors import NearestNeighbors, KNeighborsClassifier\n",
    "from sklearn import metrics\n",
    "\n",
    "\n",
    "# Custom function below is used to display performance measures\n",
    "# Required inputs are the model name and the two test data objects (X,y)\n",
    "def class_perf_measures(model,X_test,y_test):\n",
    "    # Create empty lists to store metric values created within loop\n",
    "    TP = []\n",
    "    TN = []\n",
    "    FP = []\n",
    "    FN = []\n",
    "    recall = []\n",
    "    precision = []\n",
    "    F1 = []\n",
    "    Accuracy = []\n",
    "    \n",
    "    # Create list of probability threshold values to loop over\n",
    "    threshold = np.arange(0,1.1,0.1).tolist()\n",
    "\n",
    "    # Start loop\n",
    "    for i in threshold:\n",
    "\n",
    "        # Create class assignments given threshold value\n",
    "        y_test_pred_class = (model.predict_proba(X_test)[:,1] >= i).astype(int)\n",
    "\n",
    "        # Append lists with metric values\n",
    "        TP.append(metrics.confusion_matrix(y_test, y_test_pred_class)[1,1])\n",
    "        TN.append(metrics.confusion_matrix(y_test, y_test_pred_class)[0,0])\n",
    "        FP.append(metrics.confusion_matrix(y_test, y_test_pred_class)[0,1])\n",
    "        FN.append(metrics.confusion_matrix(y_test, y_test_pred_class)[1,0])\n",
    "        recall.append(metrics.recall_score(y_test, y_test_pred_class).round(3))\n",
    "        precision.append(metrics.precision_score(y_test, y_test_pred_class).round(3))\n",
    "        F1.append(metrics.f1_score(y_test, y_test_pred_class).round(2))\n",
    "        Accuracy.append(metrics.accuracy_score(y_test, y_test_pred_class).round(2))\n",
    "\n",
    "    # Create dataframe\n",
    "    result = pd.DataFrame({\"threshold\":threshold,\n",
    "                           \"TP\":TP,\n",
    "                           \"TN\":TN,\n",
    "                           \"FP\":FP,\n",
    "                           \"FN\":FN,\n",
    "                           \"Precision\":precision,\n",
    "                           \"Recall\":recall,\n",
    "                           \"Accuracy\": Accuracy\n",
    "                          })\n",
    "\n",
    "    # Let's look at our dataframe\n",
    "    return result"
   ]
  },
  {
   "cell_type": "markdown",
   "id": "4be02e3a",
   "metadata": {},
   "source": [
    "# 3. Data Exploration/Prep <a class=\"anchor\" id=\"data-prep\"></a>\n",
    "* [Go to Top of Notebook](#table-of-content)"
   ]
  },
  {
   "cell_type": "markdown",
   "id": "511726b5",
   "metadata": {},
   "source": [
    "- [ ] [Initial Evaluation](#initial-evaluation)\n",
    "- [ ] [Initial Cleanup - dupes, missing values](#missing-values)\n",
    "- [ ] [Outlier Detection & Treatment](#outliers)\n",
    "- [ ] [Feature Selection](#feature-selection)\n",
    "- [ ] [Data Partitioning](#data-split)\n",
    "- [ ] [Data Normalization](#normalization)"
   ]
  },
  {
   "cell_type": "markdown",
   "id": "487e94ad",
   "metadata": {},
   "source": [
    "> **Initial Evaluation** <a class=\"anchor\" id=\"initial-evaluation\"></a>"
   ]
  },
  {
   "cell_type": "code",
   "execution_count": 3,
   "id": "ef02c743",
   "metadata": {},
   "outputs": [
    {
     "data": {
      "text/html": [
       "<div>\n",
       "<style scoped>\n",
       "    .dataframe tbody tr th:only-of-type {\n",
       "        vertical-align: middle;\n",
       "    }\n",
       "\n",
       "    .dataframe tbody tr th {\n",
       "        vertical-align: top;\n",
       "    }\n",
       "\n",
       "    .dataframe thead th {\n",
       "        text-align: right;\n",
       "    }\n",
       "</style>\n",
       "<table border=\"1\" class=\"dataframe\">\n",
       "  <thead>\n",
       "    <tr style=\"text-align: right;\">\n",
       "      <th></th>\n",
       "      <th>status_delayed</th>\n",
       "      <th>sch_dep_time</th>\n",
       "      <th>carrier_delta</th>\n",
       "      <th>carrier_us</th>\n",
       "      <th>carrier_envoy</th>\n",
       "      <th>carrier_continental</th>\n",
       "      <th>carrier_discovery</th>\n",
       "      <th>carrier_other</th>\n",
       "      <th>dest_jfk</th>\n",
       "      <th>dest_ewr</th>\n",
       "      <th>dest_lga</th>\n",
       "      <th>distance</th>\n",
       "      <th>origin_dca</th>\n",
       "      <th>origin_iad</th>\n",
       "      <th>origin_bwi</th>\n",
       "      <th>bad_weather</th>\n",
       "      <th>Monday</th>\n",
       "      <th>Tuesday</th>\n",
       "      <th>Wednesday</th>\n",
       "      <th>Thursday</th>\n",
       "      <th>Friday</th>\n",
       "      <th>Saturday</th>\n",
       "      <th>Sunday</th>\n",
       "    </tr>\n",
       "  </thead>\n",
       "  <tbody>\n",
       "    <tr>\n",
       "      <th>2196</th>\n",
       "      <td>0</td>\n",
       "      <td>21.33</td>\n",
       "      <td>0</td>\n",
       "      <td>0</td>\n",
       "      <td>0</td>\n",
       "      <td>0</td>\n",
       "      <td>1</td>\n",
       "      <td>0</td>\n",
       "      <td>0</td>\n",
       "      <td>0</td>\n",
       "      <td>1</td>\n",
       "      <td>229</td>\n",
       "      <td>0</td>\n",
       "      <td>1</td>\n",
       "      <td>0</td>\n",
       "      <td>0</td>\n",
       "      <td>0</td>\n",
       "      <td>0</td>\n",
       "      <td>0</td>\n",
       "      <td>1</td>\n",
       "      <td>0</td>\n",
       "      <td>0</td>\n",
       "      <td>0</td>\n",
       "    </tr>\n",
       "    <tr>\n",
       "      <th>2197</th>\n",
       "      <td>0</td>\n",
       "      <td>21.33</td>\n",
       "      <td>0</td>\n",
       "      <td>0</td>\n",
       "      <td>0</td>\n",
       "      <td>0</td>\n",
       "      <td>1</td>\n",
       "      <td>0</td>\n",
       "      <td>0</td>\n",
       "      <td>0</td>\n",
       "      <td>1</td>\n",
       "      <td>229</td>\n",
       "      <td>0</td>\n",
       "      <td>1</td>\n",
       "      <td>0</td>\n",
       "      <td>0</td>\n",
       "      <td>0</td>\n",
       "      <td>0</td>\n",
       "      <td>0</td>\n",
       "      <td>0</td>\n",
       "      <td>1</td>\n",
       "      <td>0</td>\n",
       "      <td>0</td>\n",
       "    </tr>\n",
       "    <tr>\n",
       "      <th>2198</th>\n",
       "      <td>0</td>\n",
       "      <td>21.33</td>\n",
       "      <td>0</td>\n",
       "      <td>0</td>\n",
       "      <td>0</td>\n",
       "      <td>0</td>\n",
       "      <td>1</td>\n",
       "      <td>0</td>\n",
       "      <td>0</td>\n",
       "      <td>0</td>\n",
       "      <td>1</td>\n",
       "      <td>229</td>\n",
       "      <td>0</td>\n",
       "      <td>1</td>\n",
       "      <td>0</td>\n",
       "      <td>0</td>\n",
       "      <td>0</td>\n",
       "      <td>0</td>\n",
       "      <td>0</td>\n",
       "      <td>0</td>\n",
       "      <td>0</td>\n",
       "      <td>1</td>\n",
       "      <td>0</td>\n",
       "    </tr>\n",
       "    <tr>\n",
       "      <th>2199</th>\n",
       "      <td>0</td>\n",
       "      <td>21.33</td>\n",
       "      <td>0</td>\n",
       "      <td>0</td>\n",
       "      <td>0</td>\n",
       "      <td>0</td>\n",
       "      <td>1</td>\n",
       "      <td>0</td>\n",
       "      <td>0</td>\n",
       "      <td>0</td>\n",
       "      <td>1</td>\n",
       "      <td>229</td>\n",
       "      <td>0</td>\n",
       "      <td>1</td>\n",
       "      <td>0</td>\n",
       "      <td>0</td>\n",
       "      <td>0</td>\n",
       "      <td>0</td>\n",
       "      <td>0</td>\n",
       "      <td>0</td>\n",
       "      <td>0</td>\n",
       "      <td>0</td>\n",
       "      <td>1</td>\n",
       "    </tr>\n",
       "    <tr>\n",
       "      <th>2200</th>\n",
       "      <td>0</td>\n",
       "      <td>21.33</td>\n",
       "      <td>0</td>\n",
       "      <td>0</td>\n",
       "      <td>0</td>\n",
       "      <td>0</td>\n",
       "      <td>1</td>\n",
       "      <td>0</td>\n",
       "      <td>0</td>\n",
       "      <td>0</td>\n",
       "      <td>1</td>\n",
       "      <td>229</td>\n",
       "      <td>0</td>\n",
       "      <td>1</td>\n",
       "      <td>0</td>\n",
       "      <td>0</td>\n",
       "      <td>1</td>\n",
       "      <td>0</td>\n",
       "      <td>0</td>\n",
       "      <td>0</td>\n",
       "      <td>0</td>\n",
       "      <td>0</td>\n",
       "      <td>0</td>\n",
       "    </tr>\n",
       "  </tbody>\n",
       "</table>\n",
       "</div>"
      ],
      "text/plain": [
       "      status_delayed  sch_dep_time  carrier_delta  carrier_us  carrier_envoy  \\\n",
       "2196               0         21.33              0           0              0   \n",
       "2197               0         21.33              0           0              0   \n",
       "2198               0         21.33              0           0              0   \n",
       "2199               0         21.33              0           0              0   \n",
       "2200               0         21.33              0           0              0   \n",
       "\n",
       "      carrier_continental  carrier_discovery  carrier_other  dest_jfk  \\\n",
       "2196                    0                  1              0         0   \n",
       "2197                    0                  1              0         0   \n",
       "2198                    0                  1              0         0   \n",
       "2199                    0                  1              0         0   \n",
       "2200                    0                  1              0         0   \n",
       "\n",
       "      dest_ewr  dest_lga  distance  origin_dca  origin_iad  origin_bwi  \\\n",
       "2196         0         1       229           0           1           0   \n",
       "2197         0         1       229           0           1           0   \n",
       "2198         0         1       229           0           1           0   \n",
       "2199         0         1       229           0           1           0   \n",
       "2200         0         1       229           0           1           0   \n",
       "\n",
       "      bad_weather  Monday  Tuesday  Wednesday  Thursday  Friday  Saturday  \\\n",
       "2196            0       0        0          0         1       0         0   \n",
       "2197            0       0        0          0         0       1         0   \n",
       "2198            0       0        0          0         0       0         1   \n",
       "2199            0       0        0          0         0       0         0   \n",
       "2200            0       1        0          0         0       0         0   \n",
       "\n",
       "      Sunday  \n",
       "2196       0  \n",
       "2197       0  \n",
       "2198       0  \n",
       "2199       1  \n",
       "2200       0  "
      ]
     },
     "execution_count": 3,
     "metadata": {},
     "output_type": "execute_result"
    }
   ],
   "source": [
    "# Read in data - see what we're dealing with\n",
    "df = pd.read_csv('FlightDelays_Clean.csv')\n",
    "df.tail()"
   ]
  },
  {
   "cell_type": "markdown",
   "id": "4cb07bcc",
   "metadata": {},
   "source": [
    "> **Initial Evaluation: Notes on Findings**<br><br>\n",
    ">**Observations:**<br>\n",
    ">>**Target:** label (1 if flight delayed, 0 otherwise) <br><br>\n",
    "\n",
    ">[Go to Data Prep Outline](#data-prep)\n",
    "---"
   ]
  },
  {
   "cell_type": "markdown",
   "id": "1fad2a61",
   "metadata": {},
   "source": [
    "> **Data Partitioning** <a class=\"anchor\" id=\"data-split\"></a>\n",
    "<br>\n",
    ">To Do:<br>\n",
    ">1. Put all potential predictor variables into new object called 'X'\n",
    ">2. Put target variable in new object called 'y'\n",
    ">3. Partition data into training set and testing set<br>\n",
    "\n",
    ">This is simple for now - may need to add more sampling complexity in future\n"
   ]
  },
  {
   "cell_type": "markdown",
   "id": "591ab663",
   "metadata": {},
   "source": [
    "> **About TARGET variable : \"Status_delayed\"** <a class=\"anchor\" id=\"data-split\"></a>\n",
    "<br>\n",
    "\n",
    ">To Do:<br>\n",
    ">1. Potential Predictor variables can be any variable that is attributing in predict variable 'task_completed' such as experience level etc.  \n",
    ">3. Partition data into training set and testing set<br>\n"
   ]
  },
  {
   "cell_type": "markdown",
   "id": "a48335ef",
   "metadata": {},
   "source": [
    "> **Train/Test split** <a class=\"anchor\" id=\"data-split\"></a>\n",
    "<br>\n",
    "\n",
    ">To Do:<br>\n",
    ">1. We need to see determine the most accurate split ratio.\n",
    ">2. Research random_state so that we can generate different accuracy scores.\n",
    "\n",
    ">Result:<br>\n",
    ">1. Since dataset is small we are going to go ahead with **60-40** split.\n",
    ">2. After some thorough research, 1 convincing article(Check Appendix for link) and multiple hit and trial - the random state is **9** ."
   ]
  },
  {
   "cell_type": "code",
   "execution_count": 4,
   "id": "0426fd63",
   "metadata": {},
   "outputs": [],
   "source": [
    "target = ['status_delayed']\n",
    "\n",
    "X = df.drop(target,axis=1)\n",
    "y = df[target]\n",
    "\n",
    "# Split data\n",
    "X_train,X_test,y_train,y_test = train_test_split(X,y, test_size=0.4,random_state=9)"
   ]
  },
  {
   "cell_type": "markdown",
   "id": "c2dd5ed1",
   "metadata": {},
   "source": [
    ">[Go to Data Prep Outline](#data-prep)\n",
    "---"
   ]
  },
  {
   "cell_type": "markdown",
   "id": "9a78b5dc",
   "metadata": {},
   "source": [
    "> **Data Normalization** <a class=\"anchor\" id=\"normalization\"></a>\n",
    "<br><br>\n",
    ">**Note:**<br>\n",
    ">We do this AFTER splitting the data because we only want to use summary stats<br>\n",
    ">from the TRAINING data to normalize BOTH TRAIN and TEST data<br>\n",
    "<br><br>\n",
    ">OPTIONAL - though it is a good idea to get in the habit of doing this when working with the kNN classifier"
   ]
  },
  {
   "cell_type": "code",
   "execution_count": 4,
   "id": "0e0895de",
   "metadata": {},
   "outputs": [],
   "source": [
    "# Normalize predictor variables using Z-Scores.\n",
    "# Use means and standard deviations of features as calculated in the TRAINING DATA\n",
    "# New values are centered at 0.  Values reflect the number of standard deviations\n",
    "# each record is above or below the mean.\n",
    "\n",
    "features_means = X_train.mean()\n",
    "features_std = X_train.std()\n",
    "\n",
    "X_train = (X_train - features_means)/features_std\n",
    "X_test = (X_test - features_means)/features_std"
   ]
  },
  {
   "cell_type": "markdown",
   "id": "b68ebb4f",
   "metadata": {},
   "source": [
    ">[Go to Data Prep Outline](#data-prep)\n",
    "---"
   ]
  },
  {
   "cell_type": "markdown",
   "id": "ac34ce1b",
   "metadata": {},
   "source": [
    "# 4. Machine Learning <a class=\"anchor\" id=\"ml-model\"></a>\n",
    "\n",
    "- [X] [kNN](#first-model)\n",
    "- [X] [Logistic Model](#second-model)\n",
    "- [ ] [Performance Evaluation](#third-model)\n",
    "\n",
    "\n",
    "* [Go to Top](#table-of-content)"
   ]
  },
  {
   "cell_type": "markdown",
   "id": "e95304c7",
   "metadata": {},
   "source": [
    "> **kNN** <a class=\"anchor\" id=\"first-model\"></a>\n",
    "<br>\n",
    ">Instructions:<br>\n",
    ">1. Fit numerous kNN models using different values for k. <br>\n",
    ">2. Choose the \"best\" value for \"k\" based on Accuracy"
   ]
  },
  {
   "cell_type": "code",
   "execution_count": 5,
   "id": "e1a5e6f8",
   "metadata": {
    "scrolled": true
   },
   "outputs": [
    {
     "data": {
      "text/html": [
       "<div>\n",
       "<style scoped>\n",
       "    .dataframe tbody tr th:only-of-type {\n",
       "        vertical-align: middle;\n",
       "    }\n",
       "\n",
       "    .dataframe tbody tr th {\n",
       "        vertical-align: top;\n",
       "    }\n",
       "\n",
       "    .dataframe thead th {\n",
       "        text-align: right;\n",
       "    }\n",
       "</style>\n",
       "<table border=\"1\" class=\"dataframe\">\n",
       "  <thead>\n",
       "    <tr style=\"text-align: right;\">\n",
       "      <th></th>\n",
       "      <th>k</th>\n",
       "      <th>accuracy</th>\n",
       "    </tr>\n",
       "  </thead>\n",
       "  <tbody>\n",
       "    <tr>\n",
       "      <th>0</th>\n",
       "      <td>1</td>\n",
       "      <td>0.74</td>\n",
       "    </tr>\n",
       "    <tr>\n",
       "      <th>1</th>\n",
       "      <td>3</td>\n",
       "      <td>0.78</td>\n",
       "    </tr>\n",
       "    <tr>\n",
       "      <th>2</th>\n",
       "      <td>5</td>\n",
       "      <td>0.81</td>\n",
       "    </tr>\n",
       "    <tr>\n",
       "      <th>3</th>\n",
       "      <td>7</td>\n",
       "      <td>0.82</td>\n",
       "    </tr>\n",
       "    <tr>\n",
       "      <th>4</th>\n",
       "      <td>9</td>\n",
       "      <td>0.80</td>\n",
       "    </tr>\n",
       "    <tr>\n",
       "      <th>5</th>\n",
       "      <td>11</td>\n",
       "      <td>0.81</td>\n",
       "    </tr>\n",
       "    <tr>\n",
       "      <th>6</th>\n",
       "      <td>13</td>\n",
       "      <td>0.82</td>\n",
       "    </tr>\n",
       "    <tr>\n",
       "      <th>7</th>\n",
       "      <td>15</td>\n",
       "      <td>0.83</td>\n",
       "    </tr>\n",
       "    <tr>\n",
       "      <th>8</th>\n",
       "      <td>17</td>\n",
       "      <td>0.83</td>\n",
       "    </tr>\n",
       "    <tr>\n",
       "      <th>9</th>\n",
       "      <td>19</td>\n",
       "      <td>0.83</td>\n",
       "    </tr>\n",
       "    <tr>\n",
       "      <th>10</th>\n",
       "      <td>21</td>\n",
       "      <td>0.83</td>\n",
       "    </tr>\n",
       "  </tbody>\n",
       "</table>\n",
       "</div>"
      ],
      "text/plain": [
       "     k  accuracy\n",
       "0    1      0.74\n",
       "1    3      0.78\n",
       "2    5      0.81\n",
       "3    7      0.82\n",
       "4    9      0.80\n",
       "5   11      0.81\n",
       "6   13      0.82\n",
       "7   15      0.83\n",
       "8   17      0.83\n",
       "9   19      0.83\n",
       "10  21      0.83"
      ]
     },
     "execution_count": 5,
     "metadata": {},
     "output_type": "execute_result"
    }
   ],
   "source": [
    "# 1. train a classifier for different values of k\n",
    "results = []\n",
    "for k in [1,3,5,7,9,11,13,15,17,19,21]:\n",
    "    knn = KNeighborsClassifier(n_neighbors=k)\n",
    "    knn.fit(X_train,y_train.values.ravel())\n",
    "    \n",
    "    # Get predicted class\n",
    "    y_pred_class = knn.predict(X_test)\n",
    "    \n",
    "    # Put Accuracy Score in results object\n",
    "    results.append({'k':k,\n",
    "                    'accuracy':metrics.accuracy_score(y_test,y_pred_class)\n",
    "                   }\n",
    "                  )\n",
    "# Put results from above into a Pandas Dataframe\n",
    "results_df = pd.DataFrame(results)\n",
    "results_df"
   ]
  },
  {
   "cell_type": "markdown",
   "id": "b57cd4d6",
   "metadata": {},
   "source": [
    ">**Decision:**<br>\n",
    "Based on the results above, I will set my number of neighbors (k) to 11 as this is the lowest value that achieves the highest accuracy value<br>\n",
    "\n",
    ">**Re-run kNN using the value selected above:**<br>\n",
    "For this final run of kNN, we will produce a table of performance measures across a range of probability threshold values"
   ]
  },
  {
   "cell_type": "code",
   "execution_count": 5,
   "id": "b654f41e",
   "metadata": {
    "scrolled": true
   },
   "outputs": [
    {
     "name": "stdout",
     "output_type": "stream",
     "text": [
      "Training data Accuracy: 0.8\n",
      "Testing data Accuracy: 0.82\n"
     ]
    }
   ],
   "source": [
    "knn = KNeighborsClassifier(n_neighbors=11)\n",
    "knn.fit(X_train,y_train.values.ravel())\n",
    "\n",
    "# Let's do a quick check to see if we have to worry about problems of overfitting.\n",
    "# Remember!  Small values for \"k\" in kNN tend to lead to overfitting.\n",
    "# Large value for \"k\" in kNN tend to produce underfit models\n",
    "y_train_pred_class = knn.predict(X_train)\n",
    "y_test_pred_class = knn.predict(X_test)\n",
    "\n",
    "print('Training data Accuracy:', metrics.accuracy_score(y_train,y_train_pred_class).round(2))\n",
    "print('Testing data Accuracy:', metrics.accuracy_score(y_test,y_test_pred_class).round(2))\n"
   ]
  },
  {
   "cell_type": "markdown",
   "id": "314c9db5",
   "metadata": {},
   "source": [
    ">**Result for selecting k = 11:**<br>\n",
    "By the result we can say confidently, we did not overfit or underfit the data since the accuracy for both is exactly sAame."
   ]
  },
  {
   "cell_type": "code",
   "execution_count": 6,
   "id": "79e725db",
   "metadata": {},
   "outputs": [
    {
     "name": "stdout",
     "output_type": "stream",
     "text": [
      "Training data Accuracy: 0.81\n",
      "Testing data Accuracy: 0.84\n"
     ]
    },
    {
     "name": "stderr",
     "output_type": "stream",
     "text": [
      "C:\\ProgramData\\Anaconda3\\lib\\site-packages\\sklearn\\linear_model\\_logistic.py:814: ConvergenceWarning: lbfgs failed to converge (status=1):\n",
      "STOP: TOTAL NO. of ITERATIONS REACHED LIMIT.\n",
      "\n",
      "Increase the number of iterations (max_iter) or scale the data as shown in:\n",
      "    https://scikit-learn.org/stable/modules/preprocessing.html\n",
      "Please also refer to the documentation for alternative solver options:\n",
      "    https://scikit-learn.org/stable/modules/linear_model.html#logistic-regression\n",
      "  n_iter_i = _check_optimize_result(\n"
     ]
    }
   ],
   "source": [
    "lr_model = LogisticRegression()\n",
    "lr_model.fit(X_train,y_train.values.ravel())\n",
    "\n",
    "# Let's do a quick check to see if we have to worry about problems of overfitting.\n",
    "# Remember!  Small values for \"k\" in kNN tend to lead to overfitting.\n",
    "# Large value for \"k\" in kNN tend to produce underfit models\n",
    "y_train_pred_class = lr_model.predict(X_train)\n",
    "y_test_pred_class = lr_model.predict(X_test)\n",
    "\n",
    "print('Training data Accuracy:', metrics.accuracy_score(y_train,y_train_pred_class).round(2))\n",
    "print('Testing data Accuracy:', metrics.accuracy_score(y_test,y_test_pred_class).round(2))"
   ]
  },
  {
   "cell_type": "markdown",
   "id": "7ba26e13",
   "metadata": {},
   "source": [
    ">**Winning Model:**<br>\n",
    "We need to quickly decide which modeling framework to go forward with<br>\n",
    "To keep this simple - I'm going to use AUC and will choose the model that gives us the highest value"
   ]
  },
  {
   "cell_type": "code",
   "execution_count": 8,
   "id": "4b504f4f",
   "metadata": {},
   "outputs": [
    {
     "name": "stderr",
     "output_type": "stream",
     "text": [
      "/Users/diptibisht/opt/anaconda3/lib/python3.9/site-packages/sklearn/utils/deprecation.py:87: FutureWarning: Function plot_roc_curve is deprecated; Function :func:`plot_roc_curve` is deprecated in 1.0 and will be removed in 1.2. Use one of the class methods: :meth:`sklearn.metric.RocCurveDisplay.from_predictions` or :meth:`sklearn.metric.RocCurveDisplay.from_estimator`.\n",
      "  warnings.warn(msg, category=FutureWarning)\n"
     ]
    },
    {
     "data": {
      "image/png": "[encoded data removed]",
      "text/plain": [
       "<Figure size 432x288 with 1 Axes>"
      ]
     },
     "metadata": {
      "needs_background": "light"
     },
     "output_type": "display_data"
    },
    {
     "name": "stderr",
     "output_type": "stream",
     "text": [
      "/Users/diptibisht/opt/anaconda3/lib/python3.9/site-packages/sklearn/utils/deprecation.py:87: FutureWarning: Function plot_roc_curve is deprecated; Function :func:`plot_roc_curve` is deprecated in 1.0 and will be removed in 1.2. Use one of the class methods: :meth:`sklearn.metric.RocCurveDisplay.from_predictions` or :meth:`sklearn.metric.RocCurveDisplay.from_estimator`.\n",
      "  warnings.warn(msg, category=FutureWarning)\n"
     ]
    },
    {
     "data": {
      "image/png": "[encoded data removed]",
      "text/plain": [
       "<Figure size 432x288 with 1 Axes>"
      ]
     },
     "metadata": {
      "needs_background": "light"
     },
     "output_type": "display_data"
    }
   ],
   "source": [
    "# ROC curve for kNN\n",
    "metrics.plot_roc_curve(knn,X_test,y_test)\n",
    "plt.show()\n",
    "\n",
    "# ROC curve for Logistic Model\n",
    "metrics.plot_roc_curve(lr_model,X_test,y_test)\n",
    "plt.show()"
   ]
  },
  {
   "cell_type": "markdown",
   "id": "ab508463",
   "metadata": {},
   "source": [
    ">**Decision Point:**<br>\n",
    "AUC is highest for our Logistic Model so I will use that model to further evaluate probability thresholds and corresponding performance measures"
   ]
  },
  {
   "cell_type": "code",
   "execution_count": 9,
   "id": "6a0e669a",
   "metadata": {
    "scrolled": false
   },
   "outputs": [
    {
     "name": "stderr",
     "output_type": "stream",
     "text": [
      "/Users/diptibisht/opt/anaconda3/lib/python3.9/site-packages/sklearn/metrics/_classification.py:1318: UndefinedMetricWarning: Precision is ill-defined and being set to 0.0 due to no predicted samples. Use `zero_division` parameter to control this behavior.\n",
      "  _warn_prf(average, modifier, msg_start, len(result))\n"
     ]
    },
    {
     "data": {
      "text/html": [
       "<div>\n",
       "<style scoped>\n",
       "    .dataframe tbody tr th:only-of-type {\n",
       "        vertical-align: middle;\n",
       "    }\n",
       "\n",
       "    .dataframe tbody tr th {\n",
       "        vertical-align: top;\n",
       "    }\n",
       "\n",
       "    .dataframe thead th {\n",
       "        text-align: right;\n",
       "    }\n",
       "</style>\n",
       "<table border=\"1\" class=\"dataframe\">\n",
       "  <thead>\n",
       "    <tr style=\"text-align: right;\">\n",
       "      <th></th>\n",
       "      <th>threshold</th>\n",
       "      <th>TP</th>\n",
       "      <th>TN</th>\n",
       "      <th>FP</th>\n",
       "      <th>FN</th>\n",
       "      <th>Precision</th>\n",
       "      <th>Recall</th>\n",
       "      <th>Accuracy</th>\n",
       "    </tr>\n",
       "  </thead>\n",
       "  <tbody>\n",
       "    <tr>\n",
       "      <th>0</th>\n",
       "      <td>0.00</td>\n",
       "      <td>156</td>\n",
       "      <td>0</td>\n",
       "      <td>725</td>\n",
       "      <td>0</td>\n",
       "      <td>0.18</td>\n",
       "      <td>1.00</td>\n",
       "      <td>0.18</td>\n",
       "    </tr>\n",
       "    <tr>\n",
       "      <th>1</th>\n",
       "      <td>0.10</td>\n",
       "      <td>137</td>\n",
       "      <td>190</td>\n",
       "      <td>535</td>\n",
       "      <td>19</td>\n",
       "      <td>0.20</td>\n",
       "      <td>0.88</td>\n",
       "      <td>0.37</td>\n",
       "    </tr>\n",
       "    <tr>\n",
       "      <th>2</th>\n",
       "      <td>0.20</td>\n",
       "      <td>99</td>\n",
       "      <td>464</td>\n",
       "      <td>261</td>\n",
       "      <td>57</td>\n",
       "      <td>0.28</td>\n",
       "      <td>0.64</td>\n",
       "      <td>0.64</td>\n",
       "    </tr>\n",
       "    <tr>\n",
       "      <th>3</th>\n",
       "      <td>0.30</td>\n",
       "      <td>59</td>\n",
       "      <td>631</td>\n",
       "      <td>94</td>\n",
       "      <td>97</td>\n",
       "      <td>0.39</td>\n",
       "      <td>0.38</td>\n",
       "      <td>0.78</td>\n",
       "    </tr>\n",
       "    <tr>\n",
       "      <th>4</th>\n",
       "      <td>0.40</td>\n",
       "      <td>30</td>\n",
       "      <td>703</td>\n",
       "      <td>22</td>\n",
       "      <td>126</td>\n",
       "      <td>0.58</td>\n",
       "      <td>0.19</td>\n",
       "      <td>0.83</td>\n",
       "    </tr>\n",
       "    <tr>\n",
       "      <th>5</th>\n",
       "      <td>0.50</td>\n",
       "      <td>17</td>\n",
       "      <td>722</td>\n",
       "      <td>3</td>\n",
       "      <td>139</td>\n",
       "      <td>0.85</td>\n",
       "      <td>0.11</td>\n",
       "      <td>0.84</td>\n",
       "    </tr>\n",
       "    <tr>\n",
       "      <th>6</th>\n",
       "      <td>0.60</td>\n",
       "      <td>15</td>\n",
       "      <td>725</td>\n",
       "      <td>0</td>\n",
       "      <td>141</td>\n",
       "      <td>1.00</td>\n",
       "      <td>0.10</td>\n",
       "      <td>0.84</td>\n",
       "    </tr>\n",
       "    <tr>\n",
       "      <th>7</th>\n",
       "      <td>0.70</td>\n",
       "      <td>15</td>\n",
       "      <td>725</td>\n",
       "      <td>0</td>\n",
       "      <td>141</td>\n",
       "      <td>1.00</td>\n",
       "      <td>0.10</td>\n",
       "      <td>0.84</td>\n",
       "    </tr>\n",
       "    <tr>\n",
       "      <th>8</th>\n",
       "      <td>0.80</td>\n",
       "      <td>15</td>\n",
       "      <td>725</td>\n",
       "      <td>0</td>\n",
       "      <td>141</td>\n",
       "      <td>1.00</td>\n",
       "      <td>0.10</td>\n",
       "      <td>0.84</td>\n",
       "    </tr>\n",
       "    <tr>\n",
       "      <th>9</th>\n",
       "      <td>0.90</td>\n",
       "      <td>15</td>\n",
       "      <td>725</td>\n",
       "      <td>0</td>\n",
       "      <td>141</td>\n",
       "      <td>1.00</td>\n",
       "      <td>0.10</td>\n",
       "      <td>0.84</td>\n",
       "    </tr>\n",
       "    <tr>\n",
       "      <th>10</th>\n",
       "      <td>1.00</td>\n",
       "      <td>0</td>\n",
       "      <td>725</td>\n",
       "      <td>0</td>\n",
       "      <td>156</td>\n",
       "      <td>0.00</td>\n",
       "      <td>0.00</td>\n",
       "      <td>0.82</td>\n",
       "    </tr>\n",
       "  </tbody>\n",
       "</table>\n",
       "</div>"
      ],
      "text/plain": [
       "    threshold   TP   TN   FP   FN  Precision  Recall  Accuracy\n",
       "0        0.00  156    0  725    0       0.18    1.00      0.18\n",
       "1        0.10  137  190  535   19       0.20    0.88      0.37\n",
       "2        0.20   99  464  261   57       0.28    0.64      0.64\n",
       "3        0.30   59  631   94   97       0.39    0.38      0.78\n",
       "4        0.40   30  703   22  126       0.58    0.19      0.83\n",
       "5        0.50   17  722    3  139       0.85    0.11      0.84\n",
       "6        0.60   15  725    0  141       1.00    0.10      0.84\n",
       "7        0.70   15  725    0  141       1.00    0.10      0.84\n",
       "8        0.80   15  725    0  141       1.00    0.10      0.84\n",
       "9        0.90   15  725    0  141       1.00    0.10      0.84\n",
       "10       1.00    0  725    0  156       0.00    0.00      0.82"
      ]
     },
     "execution_count": 9,
     "metadata": {},
     "output_type": "execute_result"
    }
   ],
   "source": [
    "class_perf_measures(lr_model,X_test,y_test)"
   ]
  },
  {
   "cell_type": "markdown",
   "id": "85767af2",
   "metadata": {},
   "source": [
    ">**Now let's dive into performance measures:**\n",
    ">First we will define all the TP, TN, FP and FN in business terms\n",
    "> - **TP** : The flight is actually delayed, and the flight was actually delayed.\n",
    "> - **TN** : The flight was not delayed and the model also predicted that it is not delayed.\n",
    "> - **FP** : The flight was predicted delayed but was actually not delayed.\n",
    "> - **FN** : The flight was actually delayed but not predicted as delayed."
   ]
  },
  {
   "cell_type": "markdown",
   "id": "5da428d9",
   "metadata": {},
   "source": [
    "\n",
    ">**Business Objective:**\n",
    ">> Our key stakeholder is airline marketing who aim to predict accurate flight delaying system. \n",
    "\n",
    ">> Over here the main focus is to predict flight delayed accurately so that our customers remain retained."
   ]
  },
  {
   "cell_type": "markdown",
   "id": "6c549006",
   "metadata": {},
   "source": [
    ">**Business-driven Data Decision**\n",
    ">> We are going to select threshold **0.5** for following reasons: \n",
    ">>> - As it has the highest accuracy with lowest FN. \n",
    ">>> - The costliest mistake we can make is FN therefore we will use Recall."
   ]
  },
  {
   "cell_type": "markdown",
   "id": "95bc48e0",
   "metadata": {},
   "source": [
    "1. **Prob Threshold = 0.4**:\n",
    "    - Highest accuracy in the range of 0.1-0.4 but not happy with the number of FN. \n",
    "    - It is unbelievably high which I am not sure why, thus I am going to explore other threshold levels. \n",
    "<br><br>\n",
    "2. **Prob Threshold = 0.6**:\n",
    "    - This is better but difference is not much, thus we can not sure about this threshold but this is the only threshold that has lowest number of FN and high accuracy.\n",
    "<br><br>\n",
    "3. **Prob Threshold = 0.8**:\n",
    "    - This definitely increases precision to 1 but only because we have increased our threshold so high that there's no factor of predictability and thus we do not need an analyst to determine, making our model redundant. \n",
    "<br><br>\n",
    "4. Which threshold would you choose?  Justify your decision.\n",
    "    - I would definitely choose probability threshold 0.6 because of recall and high accuracy. "
   ]
  },
  {
   "cell_type": "markdown",
   "id": "0754146f",
   "metadata": {},
   "source": [
    ">[Go to Machine Learning Outline](#ml-model)\n",
    "---"
   ]
  },
  {
   "cell_type": "markdown",
   "id": "50a23435",
   "metadata": {},
   "source": [
    "# 5. Deployment of Model <a class=\"anchor\" id=\"model-deployment\"></a>\n",
    "\n",
    "Optional - Extra Credit for this assignment\n",
    "\n",
    "* [Go to Top](#table-of-content)"
   ]
  },
  {
   "cell_type": "code",
   "execution_count": null,
   "id": "419dc05f",
   "metadata": {},
   "outputs": [],
   "source": []
  }
 ],
 "metadata": {
  "kernelspec": {
   "display_name": "Python 3 (ipykernel)",
   "language": "python",
   "name": "python3"
  },
  "language_info": {
   "codemirror_mode": {
    "name": "ipython",
    "version": 3
   },
   "file_extension": ".py",
   "mimetype": "text/x-python",
   "name": "python",
   "nbconvert_exporter": "python",
   "pygments_lexer": "ipython3",
   "version": "3.9.12"
  }
 },
 "nbformat": 4,
 "nbformat_minor": 5
}
